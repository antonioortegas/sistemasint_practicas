{
 "cells": [
  {
   "cell_type": "code",
   "execution_count": null,
   "metadata": {},
   "outputs": [],
   "source": [
    "import matplotlib.pyplot as plt\n",
    "import numpy as np\n",
    "import pandas as pd\n",
    "df = pd.read_csv('../pandas/bmw.csv')"
   ]
  },
  {
   "cell_type": "code",
   "execution_count": null,
   "metadata": {},
   "outputs": [],
   "source": [
    "#1\n",
    "x = np.linspace(0, 2 * np.pi, 64)\n",
    "y = np.sin(x) + np.cos(x)\n",
    "\n",
    "plt.figure(figsize=(4,3))\n",
    "plt.plot(x, y)\n",
    "plt.title(\"Ejercicio 1\")\n",
    "plt.xlabel(\"x\")\n",
    "plt.ylabel(\"f(x) = sin(x) + cos(x)\")\n",
    "plt.grid()\n",
    "plt.show()"
   ]
  },
  {
   "cell_type": "code",
   "execution_count": null,
   "metadata": {},
   "outputs": [],
   "source": [
    "#2\n",
    "x = np.linspace(0, 2 * np.pi, 100)\n",
    "fx = np.sin(x)\n",
    "gx = np.log(1 + x)\n",
    "\n",
    "plt.plot(x, fx, label=\"f(x) = sin(x)\")\n",
    "plt.plot(x, gx, label=\"g(x) = log(1 + x)\")\n",
    "plt.title(\"Ejercicio 2\")\n",
    "plt.xlabel(\"x\")\n",
    "plt.legend()\n",
    "plt.grid()\n",
    "plt.show()\n"
   ]
  },
  {
   "cell_type": "code",
   "execution_count": null,
   "metadata": {},
   "outputs": [],
   "source": [
    "#3\n",
    "df3 = df[\"model\"].value_counts()\n",
    "df3.sort_index(inplace=True)\n",
    "#Uso sort_index para ordenar los modelos alfabeticamente en lugar de por frecuencia\n",
    "x = df3.index\n",
    "y = df3.values\n",
    "\n",
    "plt.bar(x, y,)\n",
    "plt.title(\"Ejercicio 3\")\n",
    "plt.xlabel(\"Modelo\")\n",
    "plt.ylabel(\"Cantidad\")\n",
    "plt.tick_params(axis='x', rotation=90)\n",
    "#Rotar las etiquetas del eje x para que se vean\n",
    "plt.show()"
   ]
  },
  {
   "cell_type": "code",
   "execution_count": null,
   "metadata": {},
   "outputs": [],
   "source": [
    "#4\n",
    "plt.scatter(df[\"price\"], df[\"mileage\"], c=df[\"mpg\"], s=1)\n",
    "plt.title(\"Ejercicio 4\")\n",
    "plt.xlabel(\"Precio\")\n",
    "plt.ylabel(\"Millas\")\n",
    "plt.colorbar(label=\"mpg\")\n",
    "plt.show()"
   ]
  },
  {
   "cell_type": "code",
   "execution_count": null,
   "metadata": {},
   "outputs": [],
   "source": [
    "#5\n",
    "plt.hist(df[\"price\"], bins=20, edgecolor=\"black\")\n",
    "plt.title(\"Ejercicio 5\")\n",
    "plt.xlabel(\"Precio\")\n",
    "plt.ylabel(\"Cantidad\")\n",
    "plt.show()"
   ]
  },
  {
   "cell_type": "code",
   "execution_count": null,
   "metadata": {},
   "outputs": [],
   "source": [
    "#6\n",
    "MAXIMO_ITERACIONES = 80\n",
    "def mandelbrot(a,b):\n",
    "    c = complex(a,b)\n",
    "    z = 0\n",
    "    n = 0\n",
    "    while abs(z) <= 2 and n < MAXIMO_ITERACIONES:\n",
    "        z = z*z + c\n",
    "        n += 1\n",
    "    color_pixel = 255 - int(n * 255 / MAXIMO_ITERACIONES)\n",
    "    return color_pixel\n",
    "\n",
    "ancho = 600\n",
    "alto = 400\n",
    "xmin = -2\n",
    "xmax = 1\n",
    "ymin = -1\n",
    "ymax = 1\n",
    "\n",
    "x, y = np.meshgrid(np.linspace(xmin, xmax, ancho), np.linspace(ymin, ymax, alto))\n",
    "c = np.vectorize(mandelbrot)(x, y)\n",
    "\n",
    "plt.imshow(c, cmap=\"inferno\")\n",
    "plt.title(\"Ejercicio 6\")\n",
    "plt.show()\n"
   ]
  }
 ],
 "metadata": {
  "kernelspec": {
   "display_name": "Python 3",
   "language": "python",
   "name": "python3"
  },
  "language_info": {
   "codemirror_mode": {
    "name": "ipython",
    "version": 3
   },
   "file_extension": ".py",
   "mimetype": "text/x-python",
   "name": "python",
   "nbconvert_exporter": "python",
   "pygments_lexer": "ipython3",
   "version": "3.9.6"
  }
 },
 "nbformat": 4,
 "nbformat_minor": 2
}
