{
 "cells": [
  {
   "cell_type": "code",
   "execution_count": null,
   "metadata": {},
   "outputs": [],
   "source": [
    "import numpy as np"
   ]
  },
  {
   "cell_type": "code",
   "execution_count": null,
   "metadata": {},
   "outputs": [],
   "source": [
    "# 1\n",
    "print(\"\\nEjercicio 1\\n\")\n",
    "print(np.arange(0, 101, 4))"
   ]
  },
  {
   "cell_type": "code",
   "execution_count": null,
   "metadata": {},
   "outputs": [],
   "source": [
    "# 2\n",
    "print(\"\\nEjercicio 2\\n\")\n",
    "print(np.arange(20).reshape(5, 4))"
   ]
  },
  {
   "cell_type": "code",
   "execution_count": null,
   "metadata": {},
   "outputs": [],
   "source": [
    "# 3\n",
    "print(\"\\nEjercicio 3\\n\")\n",
    "array = np.arange(5)\n",
    "print(array)\n",
    "print(np.flip(array))"
   ]
  },
  {
   "cell_type": "code",
   "execution_count": null,
   "metadata": {},
   "outputs": [],
   "source": [
    "# 4\n",
    "print(\"\\nEjercicio 4\\n\")\n",
    "array = np.arange(9).reshape(3, 3)\n",
    "print(array)\n",
    "print(np.flip(array, 0))"
   ]
  },
  {
   "cell_type": "code",
   "execution_count": null,
   "metadata": {},
   "outputs": [],
   "source": [
    "# 5\n",
    "print(\"\\nEjercicio 5\\n\")\n",
    "array = np.arange(16, step=2).reshape(2, 4)\n",
    "print(array)\n",
    "print(np.mean(array, axis=0))"
   ]
  },
  {
   "cell_type": "code",
   "execution_count": null,
   "metadata": {},
   "outputs": [],
   "source": [
    "# 6\n",
    "print(\"\\nEjercicio 6\\n\")\n",
    "array = np.arange(12)\n",
    "print(array)\n",
    "print(array.reshape(4, 3)) "
   ]
  },
  {
   "cell_type": "code",
   "execution_count": null,
   "metadata": {},
   "outputs": [],
   "source": [
    "# 7\n",
    "print(\"\\nEjercicio 7\\n\")\n",
    "def transformArrayIntoSquareMatrix(array):\n",
    "    side = int(array.size ** 0.5)\n",
    "    if(side * side == array.size):\n",
    "        print(array.reshape(side, side))\n",
    "    else:\n",
    "        print(\"The array can't be transformed into a square matrix\")\n",
    "\n",
    "array = np.arange(12)\n",
    "print(array)\n",
    "transformArrayIntoSquareMatrix(array)\n",
    "    \n",
    "array2 = np.arange(16)\n",
    "print(array2)\n",
    "transformArrayIntoSquareMatrix(array2)"
   ]
  },
  {
   "cell_type": "code",
   "execution_count": null,
   "metadata": {},
   "outputs": [],
   "source": [
    "# 8\n",
    "print(\"\\nEjercicio 8\\n\")\n",
    "array = np.arange(16, step=2).reshape(2, 4)\n",
    "print(array)\n",
    "print(np.max(array, axis=1))"
   ]
  },
  {
   "cell_type": "code",
   "execution_count": null,
   "metadata": {},
   "outputs": [],
   "source": [
    "# 9\n",
    "print(\"\\nEjercicio 9\\n\")\n",
    "array = np.random.randint(0, 10, 20)\n",
    "print(array)\n",
    "print(np.unique(array, return_counts=True))"
   ]
  },
  {
   "cell_type": "code",
   "execution_count": null,
   "metadata": {},
   "outputs": [],
   "source": [
    "# 10\n",
    "print(\"\\nEjercicio 10\\n\")\n",
    "array = np.arange(12).reshape(4, 3)\n",
    "print(array)\n",
    "mean = np.mean(array, axis=0)\n",
    "std = np.std(array, axis=0)\n",
    "print(\"Media: \", mean)\n",
    "print(\"Desv: \", std)\n",
    "print((array - mean) / std)"
   ]
  },
  {
   "cell_type": "code",
   "execution_count": null,
   "metadata": {},
   "outputs": [],
   "source": [
    "# 11\n",
    "print(\"\\nEjercicio 11\\n\")\n",
    "array = np.arange(1, 24, 2).reshape(4, 3)\n",
    "print(array)\n",
    "mean = np.mean(array, axis=1, keepdims=True)\n",
    "std = np.std(array, axis=1, keepdims=True)\n",
    "print(\"Media: \", mean)\n",
    "print(\"Desv: \", std)\n",
    "print((array - mean) / std)"
   ]
  },
  {
   "cell_type": "code",
   "execution_count": null,
   "metadata": {},
   "outputs": [],
   "source": [
    "# 12\n",
    "print(\"\\nEjercicio 12\\n\")\n",
    "array = np.random.randint(0, 10, 12).reshape(4, 3)\n",
    "print(array)\n",
    "print(\"maximo: \", np.unravel_index(np.argmax(array), array.shape))\n",
    "print(\"minimo: \", np.unravel_index(np.argmin(array), array.shape))"
   ]
  },
  {
   "cell_type": "code",
   "execution_count": null,
   "metadata": {},
   "outputs": [],
   "source": [
    "# 13\n",
    "print(\"\\nEjercicio 13\\n\")\n",
    "array = np.random.randint(0, 10, 12).reshape(4, 3)\n",
    "print(array)\n",
    "orden = np.argsort(array[:, 0])\n",
    "print(orden)\n",
    "print(array[orden])"
   ]
  },
  {
   "cell_type": "code",
   "execution_count": null,
   "metadata": {},
   "outputs": [],
   "source": [
    "# 14\n",
    "print(\"\\nEjercicio 14\\n\")\n",
    "array = np.random.normal(size=35).reshape(7, 5)\n",
    "array[array < 0] = 0\n",
    "print(array)"
   ]
  },
  {
   "cell_type": "code",
   "execution_count": null,
   "metadata": {},
   "outputs": [],
   "source": [
    "# 15\n",
    "print(\"\\nEjercicio 15\\n\")\n",
    "array = np.random.randint(0, 100, 10)\n",
    "print(array)\n",
    "k = np.random.randint(2, 3)\n",
    "print(k)\n",
    "array = np.argsort(array)\n",
    "print(array[-k:])"
   ]
  },
  {
   "cell_type": "code",
   "execution_count": null,
   "metadata": {},
   "outputs": [],
   "source": [
    "# 16\n",
    "print(\"\\nEjercicio 16\\n\")\n",
    "array = np.random.uniform(0, 1, 42).reshape(6, 7)\n",
    "print(array)\n",
    "array[:, :2] = 0\n",
    "array[:, -3:] = 1\n",
    "print(array)"
   ]
  }
 ],
 "metadata": {
  "kernelspec": {
   "display_name": "Python 3",
   "language": "python",
   "name": "python3"
  },
  "language_info": {
   "codemirror_mode": {
    "name": "ipython",
    "version": 3
   },
   "file_extension": ".py",
   "mimetype": "text/x-python",
   "name": "python",
   "nbconvert_exporter": "python",
   "pygments_lexer": "ipython3",
   "version": "3.9.6"
  }
 },
 "nbformat": 4,
 "nbformat_minor": 2
}
