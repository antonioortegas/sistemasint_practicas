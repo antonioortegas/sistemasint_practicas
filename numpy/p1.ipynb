{
 "cells": [
  {
   "cell_type": "code",
   "execution_count": 18,
   "metadata": {},
   "outputs": [],
   "source": [
    "import numpy as np"
   ]
  },
  {
   "cell_type": "code",
   "execution_count": 19,
   "metadata": {},
   "outputs": [
    {
     "name": "stdout",
     "output_type": "stream",
     "text": [
      "\n",
      "Ejercicio 1\n",
      "\n",
      "[  0   4   8  12  16  20  24  28  32  36  40  44  48  52  56  60  64  68\n",
      "  72  76  80  84  88  92  96 100]\n"
     ]
    }
   ],
   "source": [
    "# 1\n",
    "print(\"\\nEjercicio 1\\n\")\n",
    "print(np.arange(0, 101, 4))"
   ]
  },
  {
   "cell_type": "code",
   "execution_count": 20,
   "metadata": {},
   "outputs": [
    {
     "name": "stdout",
     "output_type": "stream",
     "text": [
      "\n",
      "Ejercicio 2\n",
      "\n",
      "[[ 0  1  2  3]\n",
      " [ 4  5  6  7]\n",
      " [ 8  9 10 11]\n",
      " [12 13 14 15]\n",
      " [16 17 18 19]]\n"
     ]
    }
   ],
   "source": [
    "# 2\n",
    "print(\"\\nEjercicio 2\\n\")\n",
    "print(np.arange(20).reshape(5, 4))"
   ]
  },
  {
   "cell_type": "code",
   "execution_count": 21,
   "metadata": {},
   "outputs": [
    {
     "name": "stdout",
     "output_type": "stream",
     "text": [
      "\n",
      "Ejercicio 3\n",
      "\n",
      "[0 1 2 3 4]\n",
      "[4 3 2 1 0]\n"
     ]
    }
   ],
   "source": [
    "# 3\n",
    "print(\"\\nEjercicio 3\\n\")\n",
    "array = np.arange(5)\n",
    "print(array)\n",
    "print(np.flip(array))"
   ]
  },
  {
   "cell_type": "code",
   "execution_count": 22,
   "metadata": {},
   "outputs": [
    {
     "name": "stdout",
     "output_type": "stream",
     "text": [
      "\n",
      "Ejercicio 4\n",
      "\n",
      "[[0 1 2]\n",
      " [3 4 5]\n",
      " [6 7 8]]\n",
      "[[6 7 8]\n",
      " [3 4 5]\n",
      " [0 1 2]]\n"
     ]
    }
   ],
   "source": [
    "# 4\n",
    "print(\"\\nEjercicio 4\\n\")\n",
    "array = np.arange(9).reshape(3, 3)\n",
    "print(array)\n",
    "print(np.flip(array, 0))"
   ]
  },
  {
   "cell_type": "code",
   "execution_count": 23,
   "metadata": {},
   "outputs": [
    {
     "name": "stdout",
     "output_type": "stream",
     "text": [
      "\n",
      "Ejercicio 5\n",
      "\n",
      "[[ 0  2  4  6]\n",
      " [ 8 10 12 14]]\n",
      "[ 4.  6.  8. 10.]\n"
     ]
    }
   ],
   "source": [
    "# 5\n",
    "print(\"\\nEjercicio 5\\n\")\n",
    "array = np.arange(16, step=2).reshape(2, 4)\n",
    "print(array)\n",
    "print(np.mean(array, axis=0))"
   ]
  },
  {
   "cell_type": "code",
   "execution_count": 24,
   "metadata": {},
   "outputs": [
    {
     "name": "stdout",
     "output_type": "stream",
     "text": [
      "\n",
      "Ejercicio 6\n",
      "\n",
      "[ 0  1  2  3  4  5  6  7  8  9 10 11]\n",
      "[[ 0  1  2]\n",
      " [ 3  4  5]\n",
      " [ 6  7  8]\n",
      " [ 9 10 11]]\n"
     ]
    }
   ],
   "source": [
    "# 6\n",
    "print(\"\\nEjercicio 6\\n\")\n",
    "array = np.arange(12)\n",
    "print(array)\n",
    "print(array.reshape(4, 3)) "
   ]
  },
  {
   "cell_type": "code",
   "execution_count": 25,
   "metadata": {},
   "outputs": [
    {
     "name": "stdout",
     "output_type": "stream",
     "text": [
      "\n",
      "Ejercicio 7\n",
      "\n",
      "[ 0  1  2  3  4  5  6  7  8  9 10 11]\n",
      "The array can't be transformed into a square matrix\n",
      "[ 0  1  2  3  4  5  6  7  8  9 10 11 12 13 14 15]\n",
      "[[ 0  1  2  3]\n",
      " [ 4  5  6  7]\n",
      " [ 8  9 10 11]\n",
      " [12 13 14 15]]\n"
     ]
    }
   ],
   "source": [
    "# 7\n",
    "print(\"\\nEjercicio 7\\n\")\n",
    "def transformArrayIntoSquareMatrix(array):\n",
    "    side = int(array.size ** 0.5)\n",
    "    if(side * side == array.size):\n",
    "        print(array.reshape(side, side))\n",
    "    else:\n",
    "        print(\"The array can't be transformed into a square matrix\")\n",
    "\n",
    "array = np.arange(12)\n",
    "print(array)\n",
    "transformArrayIntoSquareMatrix(array)\n",
    "    \n",
    "array2 = np.arange(16)\n",
    "print(array2)\n",
    "transformArrayIntoSquareMatrix(array2)"
   ]
  },
  {
   "cell_type": "code",
   "execution_count": 26,
   "metadata": {},
   "outputs": [
    {
     "name": "stdout",
     "output_type": "stream",
     "text": [
      "\n",
      "Ejercicio 8\n",
      "\n",
      "[[ 0  2  4  6]\n",
      " [ 8 10 12 14]]\n",
      "[ 6 14]\n"
     ]
    }
   ],
   "source": [
    "# 8\n",
    "print(\"\\nEjercicio 8\\n\")\n",
    "array = np.arange(16, step=2).reshape(2, 4)\n",
    "print(array)\n",
    "print(np.max(array, axis=1))"
   ]
  },
  {
   "cell_type": "code",
   "execution_count": 27,
   "metadata": {},
   "outputs": [
    {
     "name": "stdout",
     "output_type": "stream",
     "text": [
      "\n",
      "Ejercicio 9\n",
      "\n",
      "[6 5 5 8 0 5 9 7 9 8 5 0 1 8 7 2 1 3 0 0]\n",
      "(array([0, 1, 2, 3, 5, 6, 7, 8, 9]), array([4, 2, 1, 1, 4, 1, 2, 3, 2], dtype=int64))\n"
     ]
    }
   ],
   "source": [
    "# 9\n",
    "print(\"\\nEjercicio 9\\n\")\n",
    "array = np.random.randint(0, 10, 20)\n",
    "print(array)\n",
    "print(np.unique(array, return_counts=True))"
   ]
  },
  {
   "cell_type": "code",
   "execution_count": 28,
   "metadata": {},
   "outputs": [
    {
     "name": "stdout",
     "output_type": "stream",
     "text": [
      "\n",
      "Ejercicio 10\n",
      "\n",
      "[[ 0  1  2]\n",
      " [ 3  4  5]\n",
      " [ 6  7  8]\n",
      " [ 9 10 11]]\n",
      "Media:  [4.5 5.5 6.5]\n",
      "Desv:  [3.35410197 3.35410197 3.35410197]\n",
      "[[-1.34164079 -1.34164079 -1.34164079]\n",
      " [-0.4472136  -0.4472136  -0.4472136 ]\n",
      " [ 0.4472136   0.4472136   0.4472136 ]\n",
      " [ 1.34164079  1.34164079  1.34164079]]\n"
     ]
    }
   ],
   "source": [
    "# 10\n",
    "print(\"\\nEjercicio 10\\n\")\n",
    "array = np.arange(12).reshape(4, 3)\n",
    "print(array)\n",
    "mean = np.mean(array, axis=0)\n",
    "std = np.std(array, axis=0)\n",
    "print(\"Media: \", mean)\n",
    "print(\"Desv: \", std)\n",
    "print((array - mean) / std)"
   ]
  },
  {
   "cell_type": "code",
   "execution_count": 29,
   "metadata": {},
   "outputs": [
    {
     "name": "stdout",
     "output_type": "stream",
     "text": [
      "\n",
      "Ejercicio 11\n",
      "\n",
      "[[ 1  3  5]\n",
      " [ 7  9 11]\n",
      " [13 15 17]\n",
      " [19 21 23]]\n",
      "Media:  [[ 3.]\n",
      " [ 9.]\n",
      " [15.]\n",
      " [21.]]\n",
      "Desv:  [[1.63299316]\n",
      " [1.63299316]\n",
      " [1.63299316]\n",
      " [1.63299316]]\n",
      "[[-1.22474487  0.          1.22474487]\n",
      " [-1.22474487  0.          1.22474487]\n",
      " [-1.22474487  0.          1.22474487]\n",
      " [-1.22474487  0.          1.22474487]]\n"
     ]
    }
   ],
   "source": [
    "# 11\n",
    "print(\"\\nEjercicio 11\\n\")\n",
    "array = np.arange(1, 24, 2).reshape(4, 3)\n",
    "print(array)\n",
    "mean = np.mean(array, axis=1, keepdims=True)\n",
    "std = np.std(array, axis=1, keepdims=True)\n",
    "print(\"Media: \", mean)\n",
    "print(\"Desv: \", std)\n",
    "print((array - mean) / std)"
   ]
  },
  {
   "cell_type": "code",
   "execution_count": 30,
   "metadata": {},
   "outputs": [
    {
     "name": "stdout",
     "output_type": "stream",
     "text": [
      "\n",
      "Ejercicio 12\n",
      "\n",
      "[[1 0 8]\n",
      " [0 8 5]\n",
      " [5 8 3]\n",
      " [2 2 9]]\n",
      "maximo:  (3, 2)\n",
      "minimo:  (0, 1)\n"
     ]
    }
   ],
   "source": [
    "# 12\n",
    "print(\"\\nEjercicio 12\\n\")\n",
    "array = np.random.randint(0, 10, 12).reshape(4, 3)\n",
    "print(array)\n",
    "print(\"maximo: \", np.unravel_index(np.argmax(array), array.shape))\n",
    "print(\"minimo: \", np.unravel_index(np.argmin(array), array.shape))"
   ]
  },
  {
   "cell_type": "code",
   "execution_count": 31,
   "metadata": {},
   "outputs": [
    {
     "name": "stdout",
     "output_type": "stream",
     "text": [
      "\n",
      "Ejercicio 13\n",
      "\n",
      "[[3 2 4]\n",
      " [0 3 0]\n",
      " [1 0 7]\n",
      " [5 0 4]]\n",
      "[1 2 0 3]\n",
      "[[0 3 0]\n",
      " [1 0 7]\n",
      " [3 2 4]\n",
      " [5 0 4]]\n"
     ]
    }
   ],
   "source": [
    "# 13\n",
    "print(\"\\nEjercicio 13\\n\")\n",
    "array = np.random.randint(0, 10, 12).reshape(4, 3)\n",
    "print(array)\n",
    "orden = np.argsort(array[:, 0])\n",
    "print(orden)\n",
    "print(array[orden])"
   ]
  },
  {
   "cell_type": "code",
   "execution_count": 32,
   "metadata": {},
   "outputs": [
    {
     "name": "stdout",
     "output_type": "stream",
     "text": [
      "\n",
      "Ejercicio 14\n",
      "\n",
      "[[0.         0.         0.23136471 0.28438201 0.95321886]\n",
      " [0.40168636 0.71738076 0.08574733 0.         0.        ]\n",
      " [0.         1.18413451 0.24213137 1.3062799  0.49079854]\n",
      " [1.50698234 0.         0.         0.         0.21480551]\n",
      " [0.         0.         2.319082   0.         0.        ]\n",
      " [0.70829907 0.         0.         0.85923863 0.        ]\n",
      " [0.         0.         0.         0.17513472 0.        ]]\n"
     ]
    }
   ],
   "source": [
    "# 14\n",
    "print(\"\\nEjercicio 14\\n\")\n",
    "array = np.random.normal(size=35).reshape(7, 5)\n",
    "array[array < 0] = 0\n",
    "print(array)"
   ]
  },
  {
   "cell_type": "code",
   "execution_count": 33,
   "metadata": {},
   "outputs": [
    {
     "name": "stdout",
     "output_type": "stream",
     "text": [
      "\n",
      "Ejercicio 15\n",
      "\n",
      "[ 9  7 97 91 80 54  2  8  9 31]\n",
      "2\n",
      "[3 2]\n"
     ]
    }
   ],
   "source": [
    "# 15\n",
    "print(\"\\nEjercicio 15\\n\")\n",
    "array = np.random.randint(0, 100, 10)\n",
    "print(array)\n",
    "k = np.random.randint(2, 3)\n",
    "print(k)\n",
    "array = np.argsort(array)\n",
    "print(array[-k:])"
   ]
  },
  {
   "cell_type": "code",
   "execution_count": 34,
   "metadata": {},
   "outputs": [
    {
     "name": "stdout",
     "output_type": "stream",
     "text": [
      "\n",
      "Ejercicio 16\n",
      "\n",
      "[[0.75062252 0.92430751 0.38784008 0.09967952 0.69107369 0.00422017\n",
      "  0.08513551]\n",
      " [0.74515346 0.57919622 0.98963088 0.50525393 0.5354683  0.27251008\n",
      "  0.48114415]\n",
      " [0.47313743 0.69307891 0.0163285  0.1466051  0.75611618 0.91879769\n",
      "  0.56043158]\n",
      " [0.00194677 0.07619236 0.80197841 0.08593029 0.95983671 0.51334947\n",
      "  0.76564401]\n",
      " [0.962745   0.40228384 0.54697187 0.80939607 0.77763826 0.98493848\n",
      "  0.31833717]\n",
      " [0.23364934 0.37461627 0.43021079 0.0685986  0.89717226 0.774883\n",
      "  0.25407355]]\n",
      "[[0.         0.         0.38784008 0.09967952 1.         1.\n",
      "  1.        ]\n",
      " [0.         0.         0.98963088 0.50525393 1.         1.\n",
      "  1.        ]\n",
      " [0.         0.         0.0163285  0.1466051  1.         1.\n",
      "  1.        ]\n",
      " [0.         0.         0.80197841 0.08593029 1.         1.\n",
      "  1.        ]\n",
      " [0.         0.         0.54697187 0.80939607 1.         1.\n",
      "  1.        ]\n",
      " [0.         0.         0.43021079 0.0685986  1.         1.\n",
      "  1.        ]]\n"
     ]
    }
   ],
   "source": [
    "# 16\n",
    "print(\"\\nEjercicio 16\\n\")\n",
    "array = np.random.uniform(0, 1, 42).reshape(6, 7)\n",
    "print(array)\n",
    "array[:, :2] = 0\n",
    "array[:, -3:] = 1\n",
    "print(array)"
   ]
  }
 ],
 "metadata": {
  "kernelspec": {
   "display_name": "Python 3",
   "language": "python",
   "name": "python3"
  },
  "language_info": {
   "codemirror_mode": {
    "name": "ipython",
    "version": 3
   },
   "file_extension": ".py",
   "mimetype": "text/x-python",
   "name": "python",
   "nbconvert_exporter": "python",
   "pygments_lexer": "ipython3",
   "version": "3.9.6"
  }
 },
 "nbformat": 4,
 "nbformat_minor": 2
}
