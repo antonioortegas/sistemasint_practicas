{
 "cells": [
  {
   "cell_type": "code",
   "execution_count": null,
   "metadata": {},
   "outputs": [],
   "source": [
    "import pandas as pd\n",
    "df = pd.read_csv('bmw.csv')\n",
    "print(df.head())"
   ]
  },
  {
   "cell_type": "code",
   "execution_count": null,
   "metadata": {},
   "outputs": [],
   "source": [
    "# 1\n",
    "print(\"\\nEjercicio 1\\n\")\n",
    "print(df[:10])"
   ]
  },
  {
   "cell_type": "code",
   "execution_count": null,
   "metadata": {},
   "outputs": [],
   "source": [
    "# 2\n",
    "print(\"\\nEjercicio 2\\n\")\n",
    "year = df[\"year\"]\n",
    "print(year)\n",
    "print(\"Tipo: \", year.dtype)\n",
    "print(\"Nº registros:\", len(year))"
   ]
  },
  {
   "cell_type": "code",
   "execution_count": null,
   "metadata": {},
   "outputs": [],
   "source": [
    "# 3\n",
    "print(\"\\nEjercicio 3\\n\")\n",
    "mileage = df['mileage']\n",
    "mileage = mileage[0::7]\n",
    "print(mileage)"
   ]
  },
  {
   "cell_type": "code",
   "execution_count": null,
   "metadata": {},
   "outputs": [],
   "source": [
    "# 4\n",
    "print(\"\\nEjercicio 4\\n\")\n",
    "mileage = df['mileage']\n",
    "mileage = mileage.sample(frac=0.4)\n",
    "print(mileage)"
   ]
  },
  {
   "cell_type": "code",
   "execution_count": null,
   "metadata": {},
   "outputs": [],
   "source": [
    "# 5\n",
    "print(\"\\nEjercicio 5\\n\")\n",
    "mileage = df['mileage']\n",
    "print(mileage[mileage < 20000])"
   ]
  },
  {
   "cell_type": "code",
   "execution_count": null,
   "metadata": {},
   "outputs": [],
   "source": [
    "# 6\n",
    "print(\"\\nEjercicio 6\\n\")\n",
    "mpg = df['mpg']\n",
    "print(mpg.sort_values(ascending=True))"
   ]
  },
  {
   "cell_type": "code",
   "execution_count": null,
   "metadata": {},
   "outputs": [],
   "source": [
    "# 7\n",
    "print(\"\\nEjercicio 7\\n\")\n",
    "engine = df['engineSize']\n",
    "print(engine)\n",
    "print(\"Media: \", engine.mean())\n",
    "print(\"Desviacion tipica: \", engine.std())\n",
    "print(\"Maximo: \", engine.max())\n",
    "print(\"Minimo: \", engine.min())"
   ]
  },
  {
   "cell_type": "code",
   "execution_count": null,
   "metadata": {},
   "outputs": [],
   "source": [
    "# 8\n",
    "print(\"\\nEjercicio 8\\n\")\n",
    "print(df.shape, \"\\n\")\n",
    "print(df.iloc[-3])"
   ]
  },
  {
   "cell_type": "code",
   "execution_count": null,
   "metadata": {},
   "outputs": [],
   "source": [
    "# 9\n",
    "print(\"\\nEjercicio 9\\n\")\n",
    "df2 = df[[\"mileage\", \"price\", \"mpg\"]]\n",
    "print(df2)\n",
    "print(df2.sample(frac=0.2))"
   ]
  },
  {
   "cell_type": "code",
   "execution_count": null,
   "metadata": {},
   "outputs": [],
   "source": [
    "# 10\n",
    "print(\"\\nEjercicio 10\\n\")\n",
    "print(df[(df[\"mileage\"] < 10000) & (df[\"mpg\"] > 40)])"
   ]
  },
  {
   "cell_type": "code",
   "execution_count": null,
   "metadata": {},
   "outputs": [],
   "source": [
    "# 11\n",
    "print(\"\\nEjercicio 11\\n\")\n",
    "df2 = df.copy()\n",
    "df2[\"model\"] = df2[\"model\"].replace({\n",
    "    \" 1 Series\": \"Series 1\",\n",
    "    \" 2 Series\": \"Series 2\",\n",
    "    \" 3 Series\": \"Series 3\",\n",
    "    \" 4 Series\": \"Series 4\",\n",
    "    \" 5 Series\": \"Series 5\",\n",
    "    \" 6 Series\": \"Series 6\",\n",
    "    \" 7 Series\": \"Series 7\",\n",
    "    \" 8 Series\": \"Series 8\",\n",
    "    \" 9 Series\": \"Series 9\",\n",
    "})\n",
    "print(df2)"
   ]
  },
  {
   "cell_type": "code",
   "execution_count": null,
   "metadata": {},
   "outputs": [],
   "source": [
    "# 12\n",
    "print(\"\\nEjercicio 12\\n\")\n",
    "nuevo = {\n",
    "    \"model\": \"3 Series\",\n",
    "    \"year\": 2023,\n",
    "    \"price\": 22572,\n",
    "    \"transmission\": \"Automatic\",\n",
    "    \"mileage\": 74120,\n",
    "    \"fuelType\": \"Diesel\",\n",
    "    \"tax\": 160,\n",
    "    \"mpg\": 58.4,\n",
    "    \"engineSize\": 2.0\n",
    "}\n",
    "df2 = df.copy()\n",
    "df2.loc[len(df)] = nuevo\n",
    "print(df2.tail())"
   ]
  },
  {
   "cell_type": "code",
   "execution_count": null,
   "metadata": {},
   "outputs": [],
   "source": [
    "# 13\n",
    "print(\"\\nEjercicio 13\\n\")\n",
    "array = df.to_numpy()\n",
    "print(array)\n",
    "print(type(array))"
   ]
  },
  {
   "cell_type": "code",
   "execution_count": null,
   "metadata": {},
   "outputs": [],
   "source": [
    "# 14\n",
    "print(\"\\nEjercicio 14\\n\")\n",
    "df[\"milesPerYear\"] = df[\"mileage\"] / (2024 - df[\"year\"])\n",
    "print(df[\"milesPerYear\"])"
   ]
  }
 ],
 "metadata": {
  "kernelspec": {
   "display_name": "Python 3",
   "language": "python",
   "name": "python3"
  },
  "language_info": {
   "codemirror_mode": {
    "name": "ipython",
    "version": 3
   },
   "file_extension": ".py",
   "mimetype": "text/x-python",
   "name": "python",
   "nbconvert_exporter": "python",
   "pygments_lexer": "ipython3",
   "version": "3.12.0"
  }
 },
 "nbformat": 4,
 "nbformat_minor": 2
}
