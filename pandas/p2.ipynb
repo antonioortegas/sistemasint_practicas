{
 "cells": [
  {
   "cell_type": "code",
   "execution_count": 129,
   "metadata": {},
   "outputs": [
    {
     "name": "stdout",
     "output_type": "stream",
     "text": [
      "       model  year  price transmission  mileage fuelType  tax   mpg  \\\n",
      "0   5 Series  2014  11200    Automatic    67068   Diesel  125  57.6   \n",
      "1   6 Series  2018  27000    Automatic    14827   Petrol  145  42.8   \n",
      "2   5 Series  2016  16000    Automatic    62794   Diesel  160  51.4   \n",
      "3   1 Series  2017  12750    Automatic    26676   Diesel  145  72.4   \n",
      "4   7 Series  2014  14500    Automatic    39554   Diesel  160  50.4   \n",
      "\n",
      "   engineSize  \n",
      "0         2.0  \n",
      "1         2.0  \n",
      "2         3.0  \n",
      "3         1.5  \n",
      "4         3.0  \n"
     ]
    }
   ],
   "source": [
    "import pandas as pd\n",
    "df = pd.read_csv('bmw.csv')\n",
    "print(df.head())"
   ]
  },
  {
   "cell_type": "code",
   "execution_count": 130,
   "metadata": {},
   "outputs": [
    {
     "name": "stdout",
     "output_type": "stream",
     "text": [
      "\n",
      "Ejercicio 1\n",
      "\n",
      "       model  year  price transmission  mileage fuelType  tax   mpg  \\\n",
      "0   5 Series  2014  11200    Automatic    67068   Diesel  125  57.6   \n",
      "1   6 Series  2018  27000    Automatic    14827   Petrol  145  42.8   \n",
      "2   5 Series  2016  16000    Automatic    62794   Diesel  160  51.4   \n",
      "3   1 Series  2017  12750    Automatic    26676   Diesel  145  72.4   \n",
      "4   7 Series  2014  14500    Automatic    39554   Diesel  160  50.4   \n",
      "5   5 Series  2016  14900    Automatic    35309   Diesel  125  60.1   \n",
      "6   5 Series  2017  16000    Automatic    38538   Diesel  125  60.1   \n",
      "7   2 Series  2018  16250       Manual    10401   Petrol  145  52.3   \n",
      "8   4 Series  2017  14250       Manual    42668   Diesel   30  62.8   \n",
      "9   5 Series  2016  14250    Automatic    36099   Diesel   20  68.9   \n",
      "\n",
      "   engineSize  \n",
      "0         2.0  \n",
      "1         2.0  \n",
      "2         3.0  \n",
      "3         1.5  \n",
      "4         3.0  \n",
      "5         2.0  \n",
      "6         2.0  \n",
      "7         1.5  \n",
      "8         2.0  \n",
      "9         2.0  \n"
     ]
    }
   ],
   "source": [
    "# 1\n",
    "print(\"\\nEjercicio 1\\n\")\n",
    "print(df[:10])"
   ]
  },
  {
   "cell_type": "code",
   "execution_count": 131,
   "metadata": {},
   "outputs": [
    {
     "name": "stdout",
     "output_type": "stream",
     "text": [
      "\n",
      "Ejercicio 2\n",
      "\n",
      "0        2014\n",
      "1        2018\n",
      "2        2016\n",
      "3        2017\n",
      "4        2014\n",
      "         ... \n",
      "10776    2016\n",
      "10777    2016\n",
      "10778    2017\n",
      "10779    2014\n",
      "10780    2017\n",
      "Name: year, Length: 10781, dtype: int64\n",
      "Tipo:  int64\n",
      "Nº registros: 10781\n"
     ]
    }
   ],
   "source": [
    "# 2\n",
    "print(\"\\nEjercicio 2\\n\")\n",
    "year = df[\"year\"]\n",
    "print(year)\n",
    "print(\"Tipo: \", year.dtype)\n",
    "print(\"Nº registros:\", len(year))"
   ]
  },
  {
   "cell_type": "code",
   "execution_count": 132,
   "metadata": {},
   "outputs": [
    {
     "name": "stdout",
     "output_type": "stream",
     "text": [
      "\n",
      "Ejercicio 3\n",
      "\n",
      "0        67068\n",
      "7        10401\n",
      "14       19057\n",
      "21       78957\n",
      "28       96213\n",
      "         ...  \n",
      "10752    41500\n",
      "10759    54008\n",
      "10766    54987\n",
      "10773    60372\n",
      "10780    59432\n",
      "Name: mileage, Length: 1541, dtype: int64\n"
     ]
    }
   ],
   "source": [
    "# 3\n",
    "print(\"\\nEjercicio 3\\n\")\n",
    "mileage = df['mileage']\n",
    "mileage = mileage[0::7]\n",
    "print(mileage)"
   ]
  },
  {
   "cell_type": "code",
   "execution_count": 133,
   "metadata": {},
   "outputs": [
    {
     "name": "stdout",
     "output_type": "stream",
     "text": [
      "\n",
      "Ejercicio 4\n",
      "\n",
      "6034    30088\n",
      "7827     3066\n",
      "787     64215\n",
      "7441     9601\n",
      "4715    24389\n",
      "        ...  \n",
      "1571    14612\n",
      "7718    48000\n",
      "3628    65800\n",
      "2359    16279\n",
      "8697    22633\n",
      "Name: mileage, Length: 4312, dtype: int64\n"
     ]
    }
   ],
   "source": [
    "# 4\n",
    "print(\"\\nEjercicio 4\\n\")\n",
    "mileage = df['mileage']\n",
    "mileage = mileage.sample(frac=0.4)\n",
    "print(mileage)"
   ]
  },
  {
   "cell_type": "code",
   "execution_count": 134,
   "metadata": {},
   "outputs": [
    {
     "name": "stdout",
     "output_type": "stream",
     "text": [
      "\n",
      "Ejercicio 5\n",
      "\n",
      "1        14827\n",
      "7        10401\n",
      "14       19057\n",
      "15       16570\n",
      "39        6522\n",
      "         ...  \n",
      "10740     3551\n",
      "10741     2784\n",
      "10742     5634\n",
      "10743    13165\n",
      "10755    13955\n",
      "Name: mileage, Length: 5610, dtype: int64\n"
     ]
    }
   ],
   "source": [
    "# 5\n",
    "print(\"\\nEjercicio 5\\n\")\n",
    "mileage = df['mileage']\n",
    "print(mileage[mileage < 20000])"
   ]
  },
  {
   "cell_type": "code",
   "execution_count": 135,
   "metadata": {},
   "outputs": [
    {
     "name": "stdout",
     "output_type": "stream",
     "text": [
      "\n",
      "Ejercicio 6\n",
      "\n",
      "6965      5.5\n",
      "6172      5.5\n",
      "6132      5.5\n",
      "6198      5.5\n",
      "2116      5.5\n",
      "        ...  \n",
      "7299    470.8\n",
      "3628    470.8\n",
      "6070    470.8\n",
      "2352    470.8\n",
      "7347    470.8\n",
      "Name: mpg, Length: 10781, dtype: float64\n"
     ]
    }
   ],
   "source": [
    "# 6\n",
    "print(\"\\nEjercicio 6\\n\")\n",
    "mpg = df['mpg']\n",
    "print(mpg.sort_values(ascending=True))"
   ]
  },
  {
   "cell_type": "code",
   "execution_count": 136,
   "metadata": {},
   "outputs": [
    {
     "name": "stdout",
     "output_type": "stream",
     "text": [
      "\n",
      "Ejercicio 7\n",
      "\n",
      "0        2.0\n",
      "1        2.0\n",
      "2        3.0\n",
      "3        1.5\n",
      "4        3.0\n",
      "        ... \n",
      "10776    2.0\n",
      "10777    2.0\n",
      "10778    2.0\n",
      "10779    2.0\n",
      "10780    2.0\n",
      "Name: engineSize, Length: 10781, dtype: float64\n",
      "Media:  2.1677673685186902\n",
      "Desviacion tipica:  0.5520537772398375\n",
      "Maximo:  6.6\n",
      "Minimo:  0.0\n"
     ]
    }
   ],
   "source": [
    "# 7\n",
    "print(\"\\nEjercicio 7\\n\")\n",
    "engine = df['engineSize']\n",
    "print(engine)\n",
    "print(\"Media: \", engine.mean())\n",
    "print(\"Desviacion tipica: \", engine.std())\n",
    "print(\"Maximo: \", engine.max())\n",
    "print(\"Minimo: \", engine.min())"
   ]
  },
  {
   "cell_type": "code",
   "execution_count": 137,
   "metadata": {},
   "outputs": [
    {
     "name": "stdout",
     "output_type": "stream",
     "text": [
      "\n",
      "Ejercicio 8\n",
      "\n",
      "(10781, 9) \n",
      "\n",
      "model            3 Series\n",
      "year                 2017\n",
      "price               13100\n",
      "transmission       Manual\n",
      "mileage             25468\n",
      "fuelType           Petrol\n",
      "tax                   200\n",
      "mpg                  42.8\n",
      "engineSize            2.0\n",
      "Name: 10778, dtype: object\n"
     ]
    }
   ],
   "source": [
    "# 8\n",
    "print(\"\\nEjercicio 8\\n\")\n",
    "print(df.shape, \"\\n\")\n",
    "print(df.iloc[-3])"
   ]
  },
  {
   "cell_type": "code",
   "execution_count": 138,
   "metadata": {},
   "outputs": [
    {
     "name": "stdout",
     "output_type": "stream",
     "text": [
      "\n",
      "Ejercicio 9\n",
      "\n",
      "       mileage  price   mpg\n",
      "0        67068  11200  57.6\n",
      "1        14827  27000  42.8\n",
      "2        62794  16000  51.4\n",
      "3        26676  12750  72.4\n",
      "4        39554  14500  50.4\n",
      "...        ...    ...   ...\n",
      "10776    40818  19000  54.3\n",
      "10777    42947  14600  60.1\n",
      "10778    25468  13100  42.8\n",
      "10779    45000   9930  64.2\n",
      "10780    59432  15981  57.6\n",
      "\n",
      "[10781 rows x 3 columns]\n",
      "       mileage  price   mpg\n",
      "5888      4923  20999  47.9\n",
      "7362     51000  13477  50.4\n",
      "2988     39714  13995  67.3\n",
      "2454     32771  33991  47.1\n",
      "10274    68489  10400  64.2\n",
      "...        ...    ...   ...\n",
      "9825      3250  25500  48.7\n",
      "5533      3250  26991  41.5\n",
      "2161      8143  54550  37.7\n",
      "2098      4832  35694  42.8\n",
      "3901      4512  18440  68.9\n",
      "\n",
      "[2156 rows x 3 columns]\n"
     ]
    }
   ],
   "source": [
    "# 9\n",
    "print(\"\\nEjercicio 9\\n\")\n",
    "df2 = df[[\"mileage\", \"price\", \"mpg\"]]\n",
    "print(df2)\n",
    "print(df2.sample(frac=0.2))"
   ]
  },
  {
   "cell_type": "code",
   "execution_count": 139,
   "metadata": {},
   "outputs": [
    {
     "name": "stdout",
     "output_type": "stream",
     "text": [
      "\n",
      "Ejercicio 10\n",
      "\n",
      "           model  year  price transmission  mileage fuelType  tax   mpg  \\\n",
      "131     1 Series  2017  14600    Automatic     5615   Petrol  145  58.9   \n",
      "148     1 Series  2016  13700       Manual     8719   Petrol  125  52.3   \n",
      "153     1 Series  2016  13750    Automatic     8707   Petrol   30  55.5   \n",
      "166           X1  2020  31498    Semi-Auto     1560   Diesel  145  60.1   \n",
      "167     2 Series  2020  27998       Manual     1580   Petrol  150  43.5   \n",
      "...          ...   ...    ...          ...      ...      ...  ...   ...   \n",
      "10713   3 Series  2020  23899    Automatic     1255   Petrol  150  47.9   \n",
      "10739   3 Series  2019  23987    Automatic     1049   Petrol  150  47.9   \n",
      "10740   3 Series  2019  23454    Automatic     3551   Petrol  150  47.9   \n",
      "10741   3 Series  2019  23599    Automatic     2784   Petrol  145  47.9   \n",
      "10742   3 Series  2019  23499    Automatic     5634   Petrol  145  47.9   \n",
      "\n",
      "       engineSize  \n",
      "131           1.5  \n",
      "148           1.5  \n",
      "153           1.5  \n",
      "166           2.0  \n",
      "167           1.5  \n",
      "...           ...  \n",
      "10713         2.0  \n",
      "10739         2.0  \n",
      "10740         2.0  \n",
      "10741         2.0  \n",
      "10742         2.0  \n",
      "\n",
      "[3079 rows x 9 columns]\n"
     ]
    }
   ],
   "source": [
    "# 10\n",
    "print(\"\\nEjercicio 10\\n\")\n",
    "print(df[(df[\"mileage\"] < 10000) & (df[\"mpg\"] > 40)])"
   ]
  },
  {
   "cell_type": "code",
   "execution_count": 140,
   "metadata": {},
   "outputs": [
    {
     "name": "stdout",
     "output_type": "stream",
     "text": [
      "\n",
      "Ejercicio 11\n",
      "\n",
      "          model  year  price transmission  mileage fuelType  tax   mpg  \\\n",
      "0      Series 5  2014  11200    Automatic    67068   Diesel  125  57.6   \n",
      "1      Series 6  2018  27000    Automatic    14827   Petrol  145  42.8   \n",
      "2      Series 5  2016  16000    Automatic    62794   Diesel  160  51.4   \n",
      "3      Series 1  2017  12750    Automatic    26676   Diesel  145  72.4   \n",
      "4      Series 7  2014  14500    Automatic    39554   Diesel  160  50.4   \n",
      "...         ...   ...    ...          ...      ...      ...  ...   ...   \n",
      "10776        X3  2016  19000    Automatic    40818   Diesel  150  54.3   \n",
      "10777  Series 5  2016  14600    Automatic    42947   Diesel  125  60.1   \n",
      "10778  Series 3  2017  13100       Manual    25468   Petrol  200  42.8   \n",
      "10779  Series 1  2014   9930    Automatic    45000   Diesel   30  64.2   \n",
      "10780        X1  2017  15981    Automatic    59432   Diesel  125  57.6   \n",
      "\n",
      "       engineSize  \n",
      "0             2.0  \n",
      "1             2.0  \n",
      "2             3.0  \n",
      "3             1.5  \n",
      "4             3.0  \n",
      "...           ...  \n",
      "10776         2.0  \n",
      "10777         2.0  \n",
      "10778         2.0  \n",
      "10779         2.0  \n",
      "10780         2.0  \n",
      "\n",
      "[10781 rows x 9 columns]\n"
     ]
    }
   ],
   "source": [
    "# 11\n",
    "print(\"\\nEjercicio 11\\n\")\n",
    "df2 = df.copy()\n",
    "df2[\"model\"] = df2[\"model\"].replace({\n",
    "    \" 1 Series\": \"Series 1\",\n",
    "    \" 2 Series\": \"Series 2\",\n",
    "    \" 3 Series\": \"Series 3\",\n",
    "    \" 4 Series\": \"Series 4\",\n",
    "    \" 5 Series\": \"Series 5\",\n",
    "    \" 6 Series\": \"Series 6\",\n",
    "    \" 7 Series\": \"Series 7\",\n",
    "    \" 8 Series\": \"Series 8\",\n",
    "    \" 9 Series\": \"Series 9\",\n",
    "})\n",
    "print(df2)"
   ]
  },
  {
   "cell_type": "code",
   "execution_count": 141,
   "metadata": {},
   "outputs": [
    {
     "name": "stdout",
     "output_type": "stream",
     "text": [
      "\n",
      "Ejercicio 12\n",
      "\n",
      "           model  year  price transmission  mileage fuelType  tax   mpg  \\\n",
      "10777   5 Series  2016  14600    Automatic    42947   Diesel  125  60.1   \n",
      "10778   3 Series  2017  13100       Manual    25468   Petrol  200  42.8   \n",
      "10779   1 Series  2014   9930    Automatic    45000   Diesel   30  64.2   \n",
      "10780         X1  2017  15981    Automatic    59432   Diesel  125  57.6   \n",
      "10781   3 Series  2023  22572    Automatic    74120   Diesel  160  58.4   \n",
      "\n",
      "       engineSize  \n",
      "10777         2.0  \n",
      "10778         2.0  \n",
      "10779         2.0  \n",
      "10780         2.0  \n",
      "10781         2.0  \n"
     ]
    }
   ],
   "source": [
    "# 12\n",
    "print(\"\\nEjercicio 12\\n\")\n",
    "nuevo = {\n",
    "    \"model\": \"3 Series\",\n",
    "    \"year\": 2023,\n",
    "    \"price\": 22572,\n",
    "    \"transmission\": \"Automatic\",\n",
    "    \"mileage\": 74120,\n",
    "    \"fuelType\": \"Diesel\",\n",
    "    \"tax\": 160,\n",
    "    \"mpg\": 58.4,\n",
    "    \"engineSize\": 2.0\n",
    "}\n",
    "df2 = df.copy()\n",
    "df2.loc[len(df)] = nuevo\n",
    "print(df2.tail())"
   ]
  },
  {
   "cell_type": "code",
   "execution_count": 142,
   "metadata": {},
   "outputs": [
    {
     "name": "stdout",
     "output_type": "stream",
     "text": [
      "\n",
      "Ejercicio 13\n",
      "\n",
      "[[' 5 Series' 2014 11200 ... 125 57.6 2.0]\n",
      " [' 6 Series' 2018 27000 ... 145 42.8 2.0]\n",
      " [' 5 Series' 2016 16000 ... 160 51.4 3.0]\n",
      " ...\n",
      " [' 3 Series' 2017 13100 ... 200 42.8 2.0]\n",
      " [' 1 Series' 2014 9930 ... 30 64.2 2.0]\n",
      " [' X1' 2017 15981 ... 125 57.6 2.0]]\n",
      "<class 'numpy.ndarray'>\n"
     ]
    }
   ],
   "source": [
    "# 13\n",
    "print(\"\\nEjercicio 13\\n\")\n",
    "array = df.to_numpy()\n",
    "print(array)\n",
    "print(type(array))"
   ]
  },
  {
   "cell_type": "code",
   "execution_count": 143,
   "metadata": {},
   "outputs": [
    {
     "name": "stdout",
     "output_type": "stream",
     "text": [
      "\n",
      "Ejercicio 14\n",
      "\n",
      "0        6706.800000\n",
      "1        2471.166667\n",
      "2        7849.250000\n",
      "3        3810.857143\n",
      "4        3955.400000\n",
      "            ...     \n",
      "10776    5102.250000\n",
      "10777    5368.375000\n",
      "10778    3638.285714\n",
      "10779    4500.000000\n",
      "10780    8490.285714\n",
      "Name: milesPerYear, Length: 10781, dtype: float64\n"
     ]
    }
   ],
   "source": [
    "# 14\n",
    "print(\"\\nEjercicio 14\\n\")\n",
    "df[\"milesPerYear\"] = df[\"mileage\"] / (2024 - df[\"year\"])\n",
    "print(df[\"milesPerYear\"])"
   ]
  }
 ],
 "metadata": {
  "kernelspec": {
   "display_name": "Python 3",
   "language": "python",
   "name": "python3"
  },
  "language_info": {
   "codemirror_mode": {
    "name": "ipython",
    "version": 3
   },
   "file_extension": ".py",
   "mimetype": "text/x-python",
   "name": "python",
   "nbconvert_exporter": "python",
   "pygments_lexer": "ipython3",
   "version": "3.9.6"
  }
 },
 "nbformat": 4,
 "nbformat_minor": 2
}
